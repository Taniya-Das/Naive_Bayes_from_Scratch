{
 "cells": [
  {
   "cell_type": "markdown",
   "id": "66aab427",
   "metadata": {},
   "source": [
    "# Naive Bayes Classifier Implementation from scratch"
   ]
  },
  {
   "cell_type": "code",
   "execution_count": 3,
   "id": "192f71f8",
   "metadata": {},
   "outputs": [],
   "source": [
    "import numpy as np\n",
    "import pandas as pd\n",
    "from sklearn.linear_model import LogisticRegression\n",
    "import matplotlib.pyplot as plt\n",
    "from sklearn.datasets import load_iris\n",
    "import warnings\n",
    "from sklearn.exceptions import ConvergenceWarning\n",
    "warnings.filterwarnings(\"ignore\", category=ConvergenceWarning)"
   ]
  },
  {
   "cell_type": "code",
   "execution_count": 4,
   "id": "cd55c5a2",
   "metadata": {},
   "outputs": [],
   "source": [
    "#To avoid divide by zero error, replacing o variance with epsilon\n",
    "epsilon = 1e-6"
   ]
  },
  {
   "cell_type": "code",
   "execution_count": 5,
   "id": "35e48aa6",
   "metadata": {},
   "outputs": [],
   "source": [
    "class NBC:\n",
    "    \"\"\"\n",
    "    Naive Bayes Classifier \n",
    "    \"\"\"\n",
    "    \n",
    "    def __init__(self, feature_types, num_classes):\n",
    "        \"\"\"\n",
    "        Constructor declaration\n",
    "        \"\"\"\n",
    "        if feature_types:\n",
    "            assert all([ft == 'r' for ft in feature_types]) #Feature types can only be real - 'r' \n",
    "            assert num_classes >= 2 #Number of classes should be greater than 2\n",
    "    \n",
    "    def fit(self, X, y):\n",
    "        \"\"\"\n",
    "        Estimates parameters of NBC\n",
    "        i.e. mean, variance and priors\n",
    "        \"\"\"\n",
    "        n_samples, n_features = X.shape #no of samples and features\n",
    "        self._classes = np.unique(y) #Unique elements (classes)\n",
    "        n_classes = len(self._classes) #No of classes\n",
    "        \n",
    "        # initialize mean, variance, and prior for each class\n",
    "        self._mean = np.zeros((n_classes, n_features), dtype=float)\n",
    "        self._var = np.zeros((n_classes, n_features), dtype=float)\n",
    "        self._priors = np.zeros(n_classes, dtype=float)\n",
    "        \n",
    "        # calculate mean, variance, and prior for each class\n",
    "        for idx, c in enumerate(self._classes):\n",
    "            X_c = X[y == c] #samples of class a particular class c\n",
    "            self._mean[idx, :] = X_c.mean(axis=0) #mean for class c\n",
    "            self._var[idx, :] = X_c.var(axis=0)   #variance for class c\n",
    "            self._priors[idx] = X_c.shape[0] / float(n_samples) #Pr(yc) frequency of class c\n",
    "\n",
    "  \n",
    "    def predict(self, X):\n",
    "        \"\"\"\n",
    "        Predict class for all samples in X \n",
    "        and save in y_pred\n",
    "        \"\"\"\n",
    "        y_pred = [self._predict(x) for x in X]\n",
    "        return np.array(y_pred)\n",
    "\n",
    "    \n",
    "    def _predict(self, x):\n",
    "        \"\"\"\n",
    "        Predict class for one sample in x\n",
    "        \"\"\"\n",
    "        posteriors = [] # Pr(y|X)\n",
    "\n",
    "        # calculate posterior probability for each class\n",
    "        for idx, c in enumerate(self._classes):\n",
    "            prior = np.log(self._priors[idx])\n",
    "            posterior = np.sum((self._logpdf(idx, x)))\n",
    "            posterior = prior + posterior\n",
    "            posteriors.append(posterior)\n",
    "\n",
    "        # return class with highest posterior probability\n",
    "        return self._classes[np.argmax(posteriors)]\n",
    "\n",
    "    def _logpdf(self, class_idx, x):\n",
    "        mean = self._mean[class_idx]\n",
    "        var = self._var[class_idx]\n",
    "        var[var < epsilon] = epsilon #check if variance=0, and replace with epsilon\n",
    "        numerator = -(x - mean) ** 2 / (2 * var)\n",
    "        denominator = np.sqrt(2 * np.pi * var)\n",
    "        return numerator - np.log(denominator)"
   ]
  },
  {
   "cell_type": "code",
   "execution_count": 6,
   "id": "db98dc7a",
   "metadata": {},
   "outputs": [],
   "source": [
    "#Importing IRIS dataset\n",
    "\n",
    "iris = load_iris()\n",
    "X, y = iris['data'], iris['target']"
   ]
  },
  {
   "cell_type": "code",
   "execution_count": 7,
   "id": "ad39f279",
   "metadata": {},
   "outputs": [
    {
     "name": "stdout",
     "output_type": "stream",
     "text": [
      "(120, 4)\n",
      "(30, 4)\n"
     ]
    }
   ],
   "source": [
    "#N = no of data points, D = size of feature vector\n",
    "#Shuffle and divide data in training and testing set\n",
    "\n",
    "N, D = X.shape\n",
    "Ntrain = int(0.8 * N) #Taking 80% data for training and rest for testing\n",
    "shuffler = np.random.permutation(N)\n",
    "Xtrain = X[shuffler[:Ntrain]]\n",
    "ytrain = y[shuffler[:Ntrain]]\n",
    "Xtest = X[shuffler[Ntrain:]]\n",
    "ytest = y[shuffler[Ntrain:]]\n",
    "\n",
    "print(Xtrain.shape)\n",
    "print(Xtest.shape)"
   ]
  },
  {
   "cell_type": "code",
   "execution_count": 8,
   "id": "59997893",
   "metadata": {},
   "outputs": [
    {
     "name": "stdout",
     "output_type": "stream",
     "text": [
      "0.9\n"
     ]
    }
   ],
   "source": [
    "#Testing NBC implementation\n",
    "\n",
    "nbc = NBC(feature_types=['r','r','r'], num_classes=4)\n",
    "nbc.fit(Xtrain, ytrain)\n",
    "yhat = nbc.predict(Xtest)\n",
    "test_accuracy = np.mean(yhat == ytest)\n",
    "\n",
    "print(test_accuracy)"
   ]
  },
  {
   "cell_type": "markdown",
   "id": "72210f67",
   "metadata": {},
   "source": [
    "C is inverse of regularization strength. Hence let 𝜆 = 0.1, then C = 1/0.1 = 10"
   ]
  },
  {
   "cell_type": "code",
   "execution_count": 9,
   "id": "3971bac3",
   "metadata": {},
   "outputs": [],
   "source": [
    "def error_compute(X, y, perm):\n",
    "    \n",
    "    N, D = X.shape\n",
    "    Ntrain = int(0.8 * N)\n",
    "    avg_errors = {'lr': [], 'nbc': []} #error dictionary \n",
    "    \n",
    "    training_sizes = [int(k*Ntrain) for k in np.arange(0.1, 1.1, 0.1)] \n",
    "    \n",
    "    #train 10 classifiers, kth classifier is trained using (10k)% of data \n",
    "    for ntrain in training_sizes:\n",
    "        error = {'lr': 0, 'nbc': 0}\n",
    "\n",
    "        for i in range(perm):\n",
    "            shuffler = np.random.permutation(N) \n",
    "            Xtrain = X[shuffler[:ntrain]]\n",
    "            ytrain = y[shuffler[:ntrain]]\n",
    "            Xtest = X[shuffler[ntrain:]]\n",
    "            ytest = y[shuffler[ntrain:]]\n",
    "            \n",
    "            # Logistic Regression using sklearn\n",
    "            logreg = LogisticRegression(C=10) \n",
    "            logreg.fit(Xtrain, ytrain)\n",
    "            error['lr'] += 1 - logreg.score(Xtest, ytest)\n",
    "            \n",
    "            # Naive Bayes Classifier using defined class NBC()\n",
    "            nbc = NBC(feature_types=['r','r','r'], num_classes=4)\n",
    "            nbc.fit(Xtrain, ytrain)\n",
    "            yhat = nbc.predict(Xtest)\n",
    "            test_accuracy = np.mean(yhat == ytest)\n",
    "            error['nbc'] += 1 - test_accuracy\n",
    "\n",
    "        # Average errors of Logistic Regression & Naive Bayes after 'perm' times run for kth classifier\n",
    "        avg_errors['lr'].append(error['lr']/perm)\n",
    "        avg_errors['nbc'].append(error['nbc']/perm)\n",
    "        \n",
    "        \n",
    "    return training_sizes, avg_errors\n",
    "    \n",
    "    "
   ]
  },
  {
   "cell_type": "code",
   "execution_count": 10,
   "id": "1a8a2486",
   "metadata": {},
   "outputs": [
    {
     "data": {
      "text/plain": [
       "[<matplotlib.lines.Line2D at 0x19f61eccdf0>]"
      ]
     },
     "execution_count": 10,
     "metadata": {},
     "output_type": "execute_result"
    },
    {
     "data": {
      "image/png": "[encoded data removed]",
      "text/plain": [
       "<Figure size 720x432 with 1 Axes>"
      ]
     },
     "metadata": {
      "needs_background": "light"
     },
     "output_type": "display_data"
    }
   ],
   "source": [
    "#200 permutations \n",
    "\n",
    "training_size, errors = error_compute(X, y, perm = 200)\n",
    "\n",
    "#Plot of average error for NBC and Logistic Regression\n",
    "plt.figure(figsize=(10,6))\n",
    "plt.title('IRIS DataSet, 200 Permutation')\n",
    "plt.xlabel('Training Data Size')\n",
    "plt.ylabel('Average Error')\n",
    "plt.plot(training_size, errors['lr'], label='Linear Regression')\n",
    "plt.plot(training_size, errors['nbc'], label='Naive Bayes')"
   ]
  },
  {
   "cell_type": "code",
   "execution_count": 11,
   "id": "aaa4276d",
   "metadata": {},
   "outputs": [
    {
     "data": {
      "text/plain": [
       "[<matplotlib.lines.Line2D at 0x19f61f9e460>]"
      ]
     },
     "execution_count": 11,
     "metadata": {},
     "output_type": "execute_result"
    },
    {
     "data": {
      "image/png": "[encoded data removed]",
      "text/plain": [
       "<Figure size 720x432 with 1 Axes>"
      ]
     },
     "metadata": {
      "needs_background": "light"
     },
     "output_type": "display_data"
    }
   ],
   "source": [
    "#1000 permutations\n",
    "\n",
    "training_size, errors = error_compute(X, y, perm = 1000)\n",
    "\n",
    "#Plot of average error for NBC and Logistic Regression\n",
    "plt.figure(figsize=(10,6))\n",
    "plt.title('IRIS DataSet, 1000 Permutation')\n",
    "plt.xlabel('Training Data Size')\n",
    "plt.ylabel('Average Error')\n",
    "plt.plot(training_size, errors['lr'], label='Linear Regression')\n",
    "plt.plot(training_size, errors['nbc'], label='Naive Bayes')\n"
   ]
  }
 ],
 "metadata": {
  "kernelspec": {
   "display_name": "Python 3",
   "language": "python",
   "name": "python3"
  },
  "language_info": {
   "codemirror_mode": {
    "name": "ipython",
    "version": 3
   },
   "file_extension": ".py",
   "mimetype": "text/x-python",
   "name": "python",
   "nbconvert_exporter": "python",
   "pygments_lexer": "ipython3",
   "version": "3.8.2"
  }
 },
 "nbformat": 4,
 "nbformat_minor": 5
}
